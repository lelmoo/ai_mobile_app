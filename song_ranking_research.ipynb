{
  "cells": [
    {
      "cell_type": "code",
      "execution_count": 18,
      "metadata": {
        "colab": {
          "base_uri": "https://localhost:8080/"
        },
        "id": "BS2qQsp1r9Of",
        "outputId": "76ec4339-58ec-4c43-f3de-c77cb6214be0"
      },
      "outputs": [
        {
          "output_type": "stream",
          "name": "stdout",
          "text": [
            "Drive already mounted at /content/gdrive/; to attempt to forcibly remount, call drive.mount(\"/content/gdrive/\", force_remount=True).\n"
          ]
        }
      ],
      "source": [
        "from google.colab import drive\n",
        "drive.mount('/content/gdrive/')"
      ]
    },
    {
      "cell_type": "code",
      "execution_count": null,
      "metadata": {
        "id": "rcVscx0qr5nw"
      },
      "outputs": [],
      "source": [
        "!pip install pydub -q"
      ]
    },
    {
      "cell_type": "code",
      "execution_count": null,
      "metadata": {
        "id": "EUSxSAw9r1_X"
      },
      "outputs": [],
      "source": [
        "import librosa\n",
        "import numpy as np\n",
        "from scipy.spatial.distance import cosine\n",
        "import csv\n",
        "import os\n",
        "from pydub import AudioSegment\n",
        "from sklearn.neighbors import NearestNeighbors\n",
        "from sklearn.metrics import ndcg_score, f1_score, recall_score, precision_score\n",
        "\n",
        "import warnings\n",
        "warnings.filterwarnings(\"ignore\", category=DeprecationWarning)"
      ]
    },
    {
      "cell_type": "code",
      "execution_count": 31,
      "metadata": {
        "id": "uZVHdqKjNao5"
      },
      "outputs": [],
      "source": [
        "target_track = '/content/gdrive/MyDrive/data/test_music/Måneskin - Zitti E Buoni.wav'\n",
        "track_list = [x for x in os.listdir('/content/gdrive/MyDrive/data/test_music') if x.endswith('.wav')]"
      ]
    },
    {
      "cell_type": "code",
      "execution_count": 32,
      "metadata": {
        "colab": {
          "base_uri": "https://localhost:8080/"
        },
        "id": "raCwl7JNZYwr",
        "outputId": "0d595755-c4ba-42db-ff36-e0d9641683f5"
      },
      "outputs": [
        {
          "output_type": "execute_result",
          "data": {
            "text/plain": [
              "['Stromae - Papaoutai.wav',\n",
              " 'RHCP - Dani California.wav',\n",
              " 'rkomi-insuperabile.wav',\n",
              " 'outloud-waiting-for-your-love_(zzz.fm).wav',\n",
              " 'Juanes-Tengo_La_Camisa_Negra-world76.spcs.bio.wav',\n",
              " 'Key_Glock_-_Penny_(musmore.org).wav',\n",
              " 'JAY1 - Bella (cdn.mp3id.me).wav',\n",
              " 'liaze-equal-2003-mp3.wav',\n",
              " 'Noze_MC_-_Ustrojj_Destrojj_65009419.wav',\n",
              " 'Andy_Panda_SKRIPTONIT_104-PRIVYChKA-world76.spcs.bio.wav',\n",
              " 'Bandiera Rossa - Bella Ciao (cdn.mp3id.me).wav',\n",
              " 'jtm-feat.-jay-warren-burnell-washburn-to-the-top-456704962.wav',\n",
              " 'Måneskin - HONEY (ARE U COMING_).wav',\n",
              " 'Maneskin_Lividi_Sui_Gomiti.wav',\n",
              " 'nickelback_-_animals_(muztune.me).wav',\n",
              " 'maneskin-the-driver-mp3.wav',\n",
              " 'bruno-mars-runaway-baby-mp3.wav',\n",
              " 'Artic Monkeys - Old Yellow Bricks.wav',\n",
              " 'Måneskin - Zitti E Buoni.wav',\n",
              " 'Central Cee - 6 For 6 (cdn.mp3id.me).wav']"
            ]
          },
          "metadata": {},
          "execution_count": 32
        }
      ],
      "source": [
        "track_list"
      ]
    },
    {
      "cell_type": "code",
      "execution_count": 36,
      "metadata": {
        "collapsed": true,
        "id": "3sS1bNqVQeZE"
      },
      "outputs": [],
      "source": [
        "def convert_mp3_to_wav(source_folder):\n",
        "    for filename in os.listdir(source_folder):\n",
        "        if filename.endswith('.mp3'):\n",
        "            mp3_path = os.path.join(source_folder, filename)\n",
        "            wav_filename = os.path.splitext(filename)[0] + '.wav'\n",
        "            wav_path = os.path.join(source_folder, wav_filename)\n",
        "\n",
        "            audio = AudioSegment.from_mp3(mp3_path)\n",
        "            audio.export(wav_path, format='wav')\n",
        "            print(f'Converted {filename} to {wav_filename}')\n",
        "\n",
        "            os.remove(mp3_path)\n",
        "            print(f'Deleted {filename}')\n",
        "\n",
        "source_folder = '/content/gdrive/MyDrive/data/test_music/'\n",
        "convert_mp3_to_wav(source_folder)"
      ]
    },
    {
      "cell_type": "markdown",
      "source": [
        "# Calculating similarities between tracks"
      ],
      "metadata": {
        "id": "oC2TceZhsx76"
      }
    },
    {
      "cell_type": "code",
      "execution_count": 29,
      "metadata": {
        "id": "qTKhk6ArWjT7"
      },
      "outputs": [],
      "source": [
        "def calculate_mfcc(file_path, n_mfcc=13):\n",
        "    \"\"\"\n",
        "    Calculate the mean MFCC for an audio file.\n",
        "\n",
        "    :param file_path: Path to the audio file\n",
        "    :param n_mfcc: Number of MFCC features to extract\n",
        "    :return: Mean MFCC vector\n",
        "    \"\"\"\n",
        "    y, sr = librosa.load(file_path)\n",
        "\n",
        "    mfcc = librosa.feature.mfcc(y=y, sr=sr, n_mfcc=n_mfcc)\n",
        "    return np.mean(mfcc, axis=1)"
      ]
    },
    {
      "cell_type": "code",
      "source": [
        "calculate_mfcc(target_track)"
      ],
      "metadata": {
        "colab": {
          "base_uri": "https://localhost:8080/"
        },
        "id": "S8fkVqVadWXn",
        "outputId": "46af3b82-bf07-4376-99bc-2f2eb7253c83"
      },
      "execution_count": 27,
      "outputs": [
        {
          "output_type": "execute_result",
          "data": {
            "text/plain": [
              "array([  6.4874864,  88.45299  , -21.442245 ,  29.450092 ,   3.2618194,\n",
              "        12.359001 ,   2.059028 ,   5.909114 ,   2.8668435,   3.627637 ,\n",
              "         1.730883 ,   9.999974 ,  -3.4274147], dtype=float32)"
            ]
          },
          "metadata": {},
          "execution_count": 27
        }
      ]
    },
    {
      "cell_type": "code",
      "execution_count": 82,
      "metadata": {
        "colab": {
          "base_uri": "https://localhost:8080/"
        },
        "id": "6Rl66NhTQm7F",
        "outputId": "b8513354-e9d0-4ae7-c0de-c2a83062f05c"
      },
      "outputs": [
        {
          "output_type": "stream",
          "name": "stdout",
          "text": [
            "target: Måneskin - Zitti E Buoni.wav\n",
            "\n",
            "0 Måneskin - Zitti E Buoni.wav\n",
            "1 Maneskin_Lividi_Sui_Gomiti.wav\n",
            "2 Måneskin - HONEY (ARE U COMING_).wav\n",
            "3 outloud-waiting-for-your-love_(zzz.fm).wav\n",
            "4 bruno-mars-runaway-baby-mp3.wav\n",
            "5 maneskin-the-driver-mp3.wav\n",
            "6 RHCP - Dani California.wav\n",
            "7 nickelback_-_animals_(muztune.me).wav\n",
            "8 rkomi-insuperabile.wav\n",
            "9 Noze_MC_-_Ustrojj_Destrojj_65009419.wav\n",
            "10 Bandiera Rossa - Bella Ciao (cdn.mp3id.me).wav\n",
            "11 Juanes-Tengo_La_Camisa_Negra-world76.spcs.bio.wav\n",
            "12 Artic Monkeys - Old Yellow Bricks.wav\n",
            "13 Key_Glock_-_Penny_(musmore.org).wav\n",
            "14 Stromae - Papaoutai.wav\n",
            "15 Central Cee - 6 For 6 (cdn.mp3id.me).wav\n",
            "16 Andy_Panda_SKRIPTONIT_104-PRIVYChKA-world76.spcs.bio.wav\n",
            "17 liaze-equal-2003-mp3.wav\n",
            "18 JAY1 - Bella (cdn.mp3id.me).wav\n",
            "19 jtm-feat.-jay-warren-burnell-washburn-to-the-top-456704962.wav\n"
          ]
        }
      ],
      "source": [
        "def rank_tracks_cosine(target_track, track_list):\n",
        "    \"\"\"\n",
        "    Rank tracks by cosine distance to the target track.\n",
        "\n",
        "    :param target_track: Path to the target audio file\n",
        "    :param track_list: List of paths to audio files to rank\n",
        "    :return: List of tracks sorted by similarity to the target track\n",
        "    \"\"\"\n",
        "    target_mfcc = calculate_mfcc(target_track)\n",
        "    track_array = np.array(track_list)\n",
        "    track_mfccs = list()\n",
        "\n",
        "    for track in track_list:\n",
        "        track_mfccs.append(calculate_mfcc(source_folder + track))\n",
        "\n",
        "    track_mfccs = np.array(track_mfccs)\n",
        "\n",
        "    distances = np.array([cosine(target_mfcc, track_mfcc) for track_mfcc in track_mfccs])\n",
        "\n",
        "    sorted_indices = np.argsort(distances)\n",
        "    sorted_tracks = track_array[sorted_indices]\n",
        "\n",
        "    return list(sorted_tracks)\n",
        "\n",
        "\n",
        "cosine_ranked_tracks = rank_tracks_cosine(target_track, track_list)\n",
        "print(f'target: {os.path.basename(target_track)}\\n')\n",
        "for k, v in enumerate(cosine_ranked_tracks):\n",
        "    print(k, v)"
      ]
    },
    {
      "cell_type": "code",
      "execution_count": 83,
      "metadata": {
        "colab": {
          "base_uri": "https://localhost:8080/"
        },
        "id": "25d90K19GMFR",
        "outputId": "52bd77f7-31ae-46a6-c44b-fd94bf46221a"
      },
      "outputs": [
        {
          "output_type": "stream",
          "name": "stdout",
          "text": [
            "target: Måneskin - Zitti E Buoni.wav\n",
            "\n",
            "0 Måneskin - Zitti E Buoni.wav\n",
            "1 Maneskin_Lividi_Sui_Gomiti.wav\n",
            "2 Måneskin - HONEY (ARE U COMING_).wav\n",
            "3 bruno-mars-runaway-baby-mp3.wav\n",
            "4 maneskin-the-driver-mp3.wav\n",
            "5 outloud-waiting-for-your-love_(zzz.fm).wav\n",
            "6 nickelback_-_animals_(muztune.me).wav\n",
            "7 rkomi-insuperabile.wav\n",
            "8 RHCP - Dani California.wav\n",
            "9 Noze_MC_-_Ustrojj_Destrojj_65009419.wav\n",
            "10 Juanes-Tengo_La_Camisa_Negra-world76.spcs.bio.wav\n",
            "11 Bandiera Rossa - Bella Ciao (cdn.mp3id.me).wav\n",
            "12 Artic Monkeys - Old Yellow Bricks.wav\n",
            "13 Key_Glock_-_Penny_(musmore.org).wav\n",
            "14 Stromae - Papaoutai.wav\n",
            "15 Central Cee - 6 For 6 (cdn.mp3id.me).wav\n",
            "16 Andy_Panda_SKRIPTONIT_104-PRIVYChKA-world76.spcs.bio.wav\n",
            "17 JAY1 - Bella (cdn.mp3id.me).wav\n",
            "18 liaze-equal-2003-mp3.wav\n",
            "19 jtm-feat.-jay-warren-burnell-washburn-to-the-top-456704962.wav\n"
          ]
        }
      ],
      "source": [
        "def rank_tracks_knn(target_track, track_list):\n",
        "    \"\"\"\n",
        "    Rank tracks by cosine distance to the target track.\n",
        "\n",
        "    :param target_track: Path to the target audio file\n",
        "    :param track_list: List of paths to audio files to rank\n",
        "    :return: List of tracks sorted by similarity to the target track\n",
        "    \"\"\"\n",
        "    target_features = calculate_mfcc(target_track)\n",
        "    track_array = np.array(track_list)\n",
        "\n",
        "    features_array = np.array([calculate_mfcc(source_folder + track) for track in track_list])\n",
        "\n",
        "    model = NearestNeighbors(n_neighbors=len(track_list), metric='euclidean')\n",
        "    model.fit(features_array)\n",
        "\n",
        "    distances, indices = model.kneighbors(target_features.reshape(1, -1))\n",
        "\n",
        "    sorted_tracks = [track_list[x] for x in indices[0]]\n",
        "    return list(sorted_tracks)\n",
        "\n",
        "\n",
        "knn_ranked_tracks = rank_tracks_knn(target_track, track_list)\n",
        "print(f'target: {os.path.basename(target_track)}\\n')\n",
        "for k, v in enumerate(knn_ranked_tracks):\n",
        "    print(k, v)"
      ]
    },
    {
      "cell_type": "code",
      "execution_count": 81,
      "metadata": {
        "id": "t_ogZVv2LCM1"
      },
      "outputs": [],
      "source": [
        "# Test set where target is 'Måneskin - Zitti E Buoni.wav'\n",
        "relevant_tracks = [\n",
        "    'Måneskin - Zitti E Buoni.wav',\n",
        "    'Maneskin_Lividi_Sui_Gomiti.wav',\n",
        "    'Måneskin - HONEY (ARE U COMING_).wav',\n",
        "    'nickelback_-_animals_(muztune.me).wav',\n",
        "    'maneskin-the-driver-mp3.wav',\n",
        "    'RHCP - Dani California.wav',\n",
        "    'rkomi-insuperabile.wav',\n",
        "    'outloud-waiting-for-your-love_(zzz.fm).wav',\n",
        "    'Artic Monkeys - Old Yellow Bricks.wav',\n",
        "    'Noze_MC_-_Ustrojj_Destrojj_65009419.wav',\n",
        "    'Juanes-Tengo_La_Camisa_Negra-world76.spcs.bio.wav',\n",
        "    'Stromae - Papaoutai.wav',\n",
        "    'jtm-feat.-jay-warren-burnell-washburn-to-the-top-456704962.wav',\n",
        "    'Bandiera Rossa - Bella Ciao (cdn.mp3id.me).wav',\n",
        "    'bruno-mars-runaway-baby-mp3.wav',\n",
        "    'Andy_Panda_SKRIPTONIT_104-PRIVYChKA-world76.spcs.bio.wav',\n",
        "    'liaze-equal-2003-mp3.wav',\n",
        "    'JAY1 - Bella (cdn.mp3id.me).wav',\n",
        "    'Key_Glock_-_Penny_(musmore.org).wav',\n",
        "    'Central Cee - 6 For 6 (cdn.mp3id.me).wav'\n",
        "]"
      ]
    },
    {
      "cell_type": "code",
      "source": [
        "import numpy as np\n",
        "from scipy.stats import kendalltau, spearmanr\n",
        "from sklearn.metrics import ndcg_score\n",
        "\n",
        "# Функция для получения рангов\n",
        "def get_ranks(tracks, ranking):\n",
        "    return [ranking.index(track) + 1 for track in tracks]\n",
        "\n",
        "# Функция для расчета метрик\n",
        "def calculate_metrics(true_ranking, predicted_ranking):\n",
        "    true_ranks = get_ranks(true_ranking, true_ranking)\n",
        "    predicted_ranks = get_ranks(true_ranking, predicted_ranking)\n",
        "\n",
        "    # Kendall's Tau\n",
        "    tau, _ = kendalltau(true_ranks, predicted_ranks) # измерения степени согласованности между двумя ранжированными переменными\n",
        "\n",
        "    # Spearman's Rank Correlation Coefficient\n",
        "    spearman, _ = spearmanr(true_ranks, predicted_ranks) # измерения степени монотонной связи между двумя переменными\n",
        "\n",
        "    # Mean Reciprocal Rank (MRR)\n",
        "    # MRR оценивает качество ранжирования путем вычисления среднего обратного ранга первого правильного результата\n",
        "    def mean_reciprocal_rank(true_ranks, predicted_ranks):\n",
        "        rank_dict = {rank: predicted_ranks.index(rank) + 1 for rank in true_ranks}\n",
        "        reciprocal_ranks = [1 / rank_dict[rank] for rank in true_ranks]\n",
        "        return np.mean(reciprocal_ranks)\n",
        "\n",
        "    mrr = mean_reciprocal_rank(true_ranks, predicted_ranks)\n",
        "\n",
        "    # Normalized Discounted Cumulative Gain (NDCG)\n",
        "    # NDCG измеряет качество ранжирования на основе релевантности и порядка элементов.\n",
        "    def ndcg(true_ranks, predicted_ranks, k):\n",
        "        dcg = 0\n",
        "        idcg = 0\n",
        "        for i in range(k):\n",
        "            dcg += (2 ** true_ranks[i] - 1) / np.log2(i + 2)\n",
        "        true_ranks.sort(reverse=True)\n",
        "        for i in range(k):\n",
        "            idcg += (2 ** true_ranks[i] - 1) / np.log2(i + 2)\n",
        "        return dcg / idcg\n",
        "\n",
        "    ndcg_value = ndcg(predicted_ranks, true_ranks, len(true_ranks))\n",
        "\n",
        "    return {\n",
        "        \"Kendall's Tau\": tau,\n",
        "        \"Spearman's Rank Correlation Coefficient\": spearman,\n",
        "        \"Mean Reciprocal Rank (MRR)\": mrr,\n",
        "        \"Normalized Discounted Cumulative Gain (NDCG)\": ndcg_value\n",
        "    }\n",
        "\n",
        "# Расчет метрик для cosine ранжирования\n",
        "cosine_metrics = calculate_metrics(relevant_tracks, cosine_ranked_tracks)\n",
        "print(\"Cosine Metrics:\")\n",
        "for metric, value in cosine_metrics.items():\n",
        "    print(f\"{metric}: {value}\")\n",
        "\n",
        "# Расчет метрик для knn ранжирования\n",
        "knn_metrics = calculate_metrics(relevant_tracks, knn_ranked_tracks)\n",
        "print(\"\\nKNN Metrics:\")\n",
        "for metric, value in knn_metrics.items():\n",
        "    print(f\"{metric}: {value}\")\n"
      ],
      "metadata": {
        "colab": {
          "base_uri": "https://localhost:8080/"
        },
        "id": "3TzMBfinpICb",
        "outputId": "baf04027-22b1-41d1-fc86-fe748029d37a"
      },
      "execution_count": 107,
      "outputs": [
        {
          "output_type": "stream",
          "name": "stdout",
          "text": [
            "Cosine Metrics:\n",
            "Kendall's Tau: 0.6421052631578947\n",
            "Spearman's Rank Correlation Coefficient: 0.7999999999999999\n",
            "Mean Reciprocal Rank (MRR): 0.1798869828571841\n",
            "Normalized Discounted Cumulative Gain (NDCG): 0.32590829803822585\n",
            "\n",
            "KNN Metrics:\n",
            "Kendall's Tau: 0.6736842105263158\n",
            "Spearman's Rank Correlation Coefficient: 0.806015037593985\n",
            "Mean Reciprocal Rank (MRR): 0.17988698285718405\n",
            "Normalized Discounted Cumulative Gain (NDCG): 0.32418442662837393\n"
          ]
        }
      ]
    },
    {
      "cell_type": "markdown",
      "source": [
        "# Вывод\n",
        "#### Мы можем заметить, что метрики практически не различаются, поэтому мы можем взять и KNN и косинусное расстояние. Мы выбрали косинусное расстояние, так как оно менее требовательно и при большом количестве данных нагрузка на сервис будет не такой большой\n"
      ],
      "metadata": {
        "id": "AhVUJ_-SrGqy"
      }
    }
  ],
  "metadata": {
    "colab": {
      "provenance": []
    },
    "kernelspec": {
      "display_name": "Python 3",
      "name": "python3"
    },
    "language_info": {
      "name": "python"
    }
  },
  "nbformat": 4,
  "nbformat_minor": 0
}